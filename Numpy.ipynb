{
 "cells": [
  {
   "cell_type": "code",
   "execution_count": 2,
   "id": "9af22ca6",
   "metadata": {},
   "outputs": [
    {
     "name": "stdout",
     "output_type": "stream",
     "text": [
      "Requirement already satisfied: pandas in c:\\users\\sap\\anaconda3\\lib\\site-packages (1.4.2)\n",
      "Requirement already satisfied: numpy>=1.18.5 in c:\\users\\sap\\anaconda3\\lib\\site-packages (from pandas) (1.21.5)\n",
      "Requirement already satisfied: python-dateutil>=2.8.1 in c:\\users\\sap\\anaconda3\\lib\\site-packages (from pandas) (2.8.2)\n",
      "Requirement already satisfied: pytz>=2020.1 in c:\\users\\sap\\anaconda3\\lib\\site-packages (from pandas) (2021.3)\n",
      "Requirement already satisfied: six>=1.5 in c:\\users\\sap\\anaconda3\\lib\\site-packages (from python-dateutil>=2.8.1->pandas) (1.16.0)\n",
      "Note: you may need to restart the kernel to use updated packages.\n"
     ]
    }
   ],
   "source": [
    "pip install pandas"
   ]
  },
  {
   "cell_type": "code",
   "execution_count": 1,
   "id": "05091875",
   "metadata": {},
   "outputs": [],
   "source": [
    "import numpy as np"
   ]
  },
  {
   "cell_type": "code",
   "execution_count": 2,
   "id": "dca1afd0",
   "metadata": {},
   "outputs": [
    {
     "data": {
      "text/plain": [
       "array([[1, 2, 3, 4],\n",
       "       [5, 6, 7, 8]])"
      ]
     },
     "execution_count": 2,
     "metadata": {},
     "output_type": "execute_result"
    }
   ],
   "source": [
    "# creating the array\n",
    "\n",
    "arr = np.array([[1,2,3,4],[5,6,7,8]])\n",
    "arr"
   ]
  },
  {
   "cell_type": "code",
   "execution_count": 4,
   "id": "f435d7b3",
   "metadata": {},
   "outputs": [
    {
     "name": "stdout",
     "output_type": "stream",
     "text": [
      "2\n"
     ]
    }
   ],
   "source": [
    "# dimensions of the array\n",
    "\n",
    "print(arr.ndim)"
   ]
  },
  {
   "cell_type": "code",
   "execution_count": 6,
   "id": "3d91e57b",
   "metadata": {},
   "outputs": [
    {
     "name": "stdout",
     "output_type": "stream",
     "text": [
      "(2, 4)\n"
     ]
    }
   ],
   "source": [
    "# shape of the array\n",
    "\n",
    "print(arr.shape)"
   ]
  },
  {
   "cell_type": "code",
   "execution_count": 7,
   "id": "4078108f",
   "metadata": {},
   "outputs": [
    {
     "name": "stdout",
     "output_type": "stream",
     "text": [
      "<class 'numpy.ndarray'>\n"
     ]
    }
   ],
   "source": [
    "print(type(arr))\n"
   ]
  },
  {
   "cell_type": "code",
   "execution_count": 9,
   "id": "dd2c472b",
   "metadata": {},
   "outputs": [
    {
     "name": "stdout",
     "output_type": "stream",
     "text": [
      "<memory at 0x0000023B9D3A3930>\n"
     ]
    }
   ],
   "source": [
    "print(arr.data)"
   ]
  },
  {
   "cell_type": "code",
   "execution_count": null,
   "id": "8f647f4c",
   "metadata": {},
   "outputs": [],
   "source": [
    "# In 2-d array\n",
    "\n",
    "# axis = 0 (column)\n",
    "# axis = 1 (row)\n"
   ]
  },
  {
   "cell_type": "code",
   "execution_count": 10,
   "id": "07d32e19",
   "metadata": {},
   "outputs": [
    {
     "name": "stdout",
     "output_type": "stream",
     "text": [
      "[[20 21 22]\n",
      " [25 26 27]\n",
      " [30 31 32]]\n"
     ]
    }
   ],
   "source": [
    "arr2 = np.array([[20,21,22],[25,26,27],[30,31,32]])\n",
    "print(arr2)\n",
    "# or print(arr2,\"\\n\")"
   ]
  },
  {
   "cell_type": "code",
   "execution_count": 11,
   "id": "8116755e",
   "metadata": {},
   "outputs": [
    {
     "data": {
      "text/plain": [
       "dtype('int32')"
      ]
     },
     "execution_count": 11,
     "metadata": {},
     "output_type": "execute_result"
    }
   ],
   "source": [
    "arr2.dtype"
   ]
  },
  {
   "cell_type": "code",
   "execution_count": 12,
   "id": "af4d0a2a",
   "metadata": {},
   "outputs": [
    {
     "data": {
      "text/plain": [
       "4"
      ]
     },
     "execution_count": 12,
     "metadata": {},
     "output_type": "execute_result"
    }
   ],
   "source": [
    "arr2.itemsize"
   ]
  },
  {
   "cell_type": "code",
   "execution_count": 13,
   "id": "49f8d394",
   "metadata": {},
   "outputs": [
    {
     "data": {
      "text/plain": [
       "9"
      ]
     },
     "execution_count": 13,
     "metadata": {},
     "output_type": "execute_result"
    }
   ],
   "source": [
    "# elements in a\n",
    "arr2.size"
   ]
  },
  {
   "cell_type": "code",
   "execution_count": 14,
   "id": "220ec76d",
   "metadata": {},
   "outputs": [
    {
     "data": {
      "text/plain": [
       "(3, 3)"
      ]
     },
     "execution_count": 14,
     "metadata": {},
     "output_type": "execute_result"
    }
   ],
   "source": [
    "arr2.shape"
   ]
  },
  {
   "cell_type": "code",
   "execution_count": 4,
   "id": "3a583de2",
   "metadata": {},
   "outputs": [
    {
     "name": "stdout",
     "output_type": "stream",
     "text": [
      "[[20. 21. 22.]\n",
      " [25. 26. 27.]\n",
      " [30. 31. 32.]] \n",
      "\n",
      "float64 \n",
      "\n",
      "8\n"
     ]
    }
   ],
   "source": [
    "arr3 = np.array([[20,21,22],[25,26,27],[30,31,32]],dtype=np.float64)\n",
    "print(arr3,\"\\n\")\n",
    "print(arr3.dtype,\"\\n\")\n",
    "print(arr3.itemsize)"
   ]
  },
  {
   "cell_type": "code",
   "execution_count": 5,
   "id": "47c3335c",
   "metadata": {},
   "outputs": [
    {
     "name": "stdout",
     "output_type": "stream",
     "text": [
      "[[20. 21. 22.]\n",
      " [25. 26. 27.]\n",
      " [30. 31. 32.]] \n",
      "\n",
      "float32 \n",
      "\n",
      "4\n"
     ]
    }
   ],
   "source": [
    "arr3 = np.array([[20,21,22],[25,26,27],[30,31,32]],dtype=np.float32)\n",
    "print(arr3,\"\\n\")\n",
    "print(arr3.dtype,\"\\n\")\n",
    "print(arr3.itemsize)"
   ]
  },
  {
   "cell_type": "code",
   "execution_count": 6,
   "id": "94086a8e",
   "metadata": {},
   "outputs": [
    {
     "name": "stdout",
     "output_type": "stream",
     "text": [
      "[[20. 21. 22.]\n",
      " [25. 26. 27.]\n",
      " [30. 31. 32.]] \n",
      "\n",
      "float64 \n",
      "\n",
      "8\n"
     ]
    },
    {
     "name": "stderr",
     "output_type": "stream",
     "text": [
      "C:\\Users\\SAP\\AppData\\Local\\Temp\\ipykernel_12640\\790133741.py:1: DeprecationWarning: `np.float` is a deprecated alias for the builtin `float`. To silence this warning, use `float` by itself. Doing this will not modify any behavior and is safe. If you specifically wanted the numpy scalar type, use `np.float64` here.\n",
      "Deprecated in NumPy 1.20; for more details and guidance: https://numpy.org/devdocs/release/1.20.0-notes.html#deprecations\n",
      "  arr3 = np.array([[20,21,22],[25,26,27],[30,31,32]],dtype=np.float)\n"
     ]
    }
   ],
   "source": [
    "arr3 = np.array([[20,21,22],[25,26,27],[30,31,32]],dtype=np.float)\n",
    "print(arr3,\"\\n\")\n",
    "print(arr3.dtype,\"\\n\")\n",
    "print(arr3.itemsize)"
   ]
  },
  {
   "cell_type": "code",
   "execution_count": 7,
   "id": "59799861",
   "metadata": {},
   "outputs": [
    {
     "name": "stdout",
     "output_type": "stream",
     "text": [
      "[[20.+0.j 21.+0.j 22.+0.j]\n",
      " [25.+0.j 26.+0.j 27.+0.j]\n",
      " [30.+0.j 31.+0.j 32.+0.j]] \n",
      "\n",
      "complex64 \n",
      "\n",
      "8 \n",
      "\n",
      "[[20.+0.j 21.+0.j 22.+0.j]\n",
      " [25.+0.j 26.+0.j 27.+0.j]\n",
      " [30.+0.j 31.+0.j 32.+0.j]] \n",
      "\n",
      "complex128 \n",
      "\n",
      "16 \n",
      "\n"
     ]
    }
   ],
   "source": [
    "z = np.array([[20,21,22],[25,26,27],[30,31,32]],dtype=np.complex64)\n",
    "t = np.array([[20,21,22],[25,26,27],[30,31,32]],dtype=np.complex128)\n",
    "\n",
    "print(z,\"\\n\")\n",
    "print(z.dtype,\"\\n\")\n",
    "print(z.itemsize,\"\\n\")\n",
    "print(t,\"\\n\")\n",
    "print(t.dtype,\"\\n\")\n",
    "print(t.itemsize,\"\\n\")"
   ]
  },
  {
   "cell_type": "code",
   "execution_count": 8,
   "id": "904d6b31",
   "metadata": {},
   "outputs": [
    {
     "ename": "AttributeError",
     "evalue": "module 'numpy' has no attribute 'complex32'",
     "output_type": "error",
     "traceback": [
      "\u001b[1;31m---------------------------------------------------------------------------\u001b[0m",
      "\u001b[1;31mAttributeError\u001b[0m                            Traceback (most recent call last)",
      "Input \u001b[1;32mIn [8]\u001b[0m, in \u001b[0;36m<cell line: 1>\u001b[1;34m()\u001b[0m\n\u001b[1;32m----> 1\u001b[0m z \u001b[38;5;241m=\u001b[39m np\u001b[38;5;241m.\u001b[39marray([[\u001b[38;5;241m20\u001b[39m,\u001b[38;5;241m21\u001b[39m,\u001b[38;5;241m22\u001b[39m],[\u001b[38;5;241m25\u001b[39m,\u001b[38;5;241m26\u001b[39m,\u001b[38;5;241m27\u001b[39m],[\u001b[38;5;241m30\u001b[39m,\u001b[38;5;241m31\u001b[39m,\u001b[38;5;241m32\u001b[39m]],dtype\u001b[38;5;241m=\u001b[39m\u001b[43mnp\u001b[49m\u001b[38;5;241;43m.\u001b[39;49m\u001b[43mcomplex32\u001b[49m)\n",
      "File \u001b[1;32m~\\anaconda3\\lib\\site-packages\\numpy\\__init__.py:313\u001b[0m, in \u001b[0;36m__getattr__\u001b[1;34m(attr)\u001b[0m\n\u001b[0;32m    310\u001b[0m     \u001b[38;5;28;01mfrom\u001b[39;00m \u001b[38;5;21;01m.\u001b[39;00m\u001b[38;5;21;01mtesting\u001b[39;00m \u001b[38;5;28;01mimport\u001b[39;00m Tester\n\u001b[0;32m    311\u001b[0m     \u001b[38;5;28;01mreturn\u001b[39;00m Tester\n\u001b[1;32m--> 313\u001b[0m \u001b[38;5;28;01mraise\u001b[39;00m \u001b[38;5;167;01mAttributeError\u001b[39;00m(\u001b[38;5;124m\"\u001b[39m\u001b[38;5;124mmodule \u001b[39m\u001b[38;5;132;01m{!r}\u001b[39;00m\u001b[38;5;124m has no attribute \u001b[39m\u001b[38;5;124m\"\u001b[39m\n\u001b[0;32m    314\u001b[0m                      \u001b[38;5;124m\"\u001b[39m\u001b[38;5;132;01m{!r}\u001b[39;00m\u001b[38;5;124m\"\u001b[39m\u001b[38;5;241m.\u001b[39mformat(\u001b[38;5;18m__name__\u001b[39m, attr))\n",
      "\u001b[1;31mAttributeError\u001b[0m: module 'numpy' has no attribute 'complex32'"
     ]
    }
   ],
   "source": [
    "z = np.array([[20,21,22],[25,26,27],[30,31,32]],dtype=np.complex32)\n"
   ]
  },
  {
   "cell_type": "code",
   "execution_count": 9,
   "id": "269dbff4",
   "metadata": {},
   "outputs": [
    {
     "name": "stdout",
     "output_type": "stream",
     "text": [
      "234.0\n"
     ]
    }
   ],
   "source": [
    "# sum elements in array\n",
    "print(np.sum(arr3))"
   ]
  },
  {
   "cell_type": "code",
   "execution_count": 14,
   "id": "919e2d9d",
   "metadata": {},
   "outputs": [
    {
     "name": "stdout",
     "output_type": "stream",
     "text": [
      "[[20. 21. 22.]\n",
      " [25. 26. 27.]\n",
      " [30. 31. 32.]] \n",
      "\n",
      "[75. 78. 81.] \n",
      "\n",
      "[63. 78. 93.]\n"
     ]
    }
   ],
   "source": [
    "# sum valued along a specified axis\n",
    "print(arr3,\"\\n\")\n",
    "# for columns\n",
    "print(np.sum(arr3,axis=0),\"\\n\")\n",
    "# for rows\n",
    "print(np.sum(arr3,axis=1))"
   ]
  },
  {
   "cell_type": "code",
   "execution_count": 19,
   "id": "450050ca",
   "metadata": {},
   "outputs": [
    {
     "name": "stdout",
     "output_type": "stream",
     "text": [
      "20.0 \n",
      "\n",
      "[20. 21. 22.]\n",
      "[20. 25. 30.]\n",
      "<class 'numpy.ndarray'>\n"
     ]
    }
   ],
   "source": [
    "# minimum value (in previous versions amin was working here min is also working)\n",
    "print(np.min(arr3),\"\\n\")\n",
    "# for columns\n",
    "print(np.min(arr3,axis=0))\n",
    "# for rows\n",
    "print(np.min(arr3,axis=1))\n",
    "print(type(arr3))"
   ]
  },
  {
   "cell_type": "code",
   "execution_count": 20,
   "id": "003e85d8",
   "metadata": {},
   "outputs": [
    {
     "name": "stdout",
     "output_type": "stream",
     "text": [
      "32.0 \n",
      "\n",
      "[30. 31. 32.]\n",
      "[22. 27. 32.]\n",
      "<class 'numpy.ndarray'>\n"
     ]
    }
   ],
   "source": [
    "# Maximum values\n",
    "\n",
    "print(np.max(arr3),\"\\n\")\n",
    "# for columns\n",
    "print(np.max(arr3,axis=0))\n",
    "# for rows\n",
    "print(np.max(arr3,axis=1))\n",
    "print(type(arr3))"
   ]
  },
  {
   "cell_type": "code",
   "execution_count": 21,
   "id": "44d09d3e",
   "metadata": {},
   "outputs": [
    {
     "name": "stdout",
     "output_type": "stream",
     "text": [
      "26.0 \n",
      "\n",
      "[25. 26. 27.]\n",
      "[21. 26. 31.]\n",
      "<class 'numpy.ndarray'>\n"
     ]
    }
   ],
   "source": [
    "# Mean\n",
    "print(np.mean(arr3),\"\\n\")\n",
    "# for columns\n",
    "print(np.mean(arr3,axis=0))\n",
    "# for rows\n",
    "print(np.mean(arr3,axis=1))\n",
    "print(type(arr3))"
   ]
  },
  {
   "cell_type": "code",
   "execution_count": 25,
   "id": "5205d328",
   "metadata": {},
   "outputs": [],
   "source": [
    "# Median\n",
    "print(arr3)\n",
    "print(np.mean(arr3),\"\\n\")\n",
    "# for columns\n",
    "print(np.mean(arr3,axis=0))\n",
    "# for rows\n",
    "print(np.mean(arr3,axis=1))\n",
    "print(type(arr3))"
   ]
  },
  {
   "cell_type": "code",
   "execution_count": 26,
   "id": "99f85037",
   "metadata": {},
   "outputs": [
    {
     "name": "stdout",
     "output_type": "stream",
     "text": [
      "[[20. 21. 22.]\n",
      " [25. 26. 27.]\n",
      " [30. 31. 32.]]\n",
      "4.163331998932265 \n",
      "\n",
      "[4.0824829 4.0824829 4.0824829]\n",
      "[0.81649658 0.81649658 0.81649658]\n",
      "<class 'numpy.ndarray'>\n"
     ]
    }
   ],
   "source": [
    "# Standard deviation\n",
    "print(arr3)\n",
    "print(np.std(arr3),\"\\n\")\n",
    "# for columns\n",
    "print(np.std(arr3,axis=0))\n",
    "# for rows\n",
    "print(np.std(arr3,axis=1))\n",
    "print(type(arr3))"
   ]
  },
  {
   "cell_type": "code",
   "execution_count": 28,
   "id": "078a9fc2",
   "metadata": {},
   "outputs": [
    {
     "name": "stdout",
     "output_type": "stream",
     "text": [
      "[[20. 21. 22.]\n",
      " [25. 26. 27.]\n",
      " [30. 31. 32.]]\n",
      "17.333333333333332\n",
      "[16.66666667 16.66666667 16.66666667]\n",
      "[0.66666667 0.66666667 0.66666667]\n"
     ]
    }
   ],
   "source": [
    "# variance\n",
    "\n",
    "print(arr3)\n",
    "print(np.var(arr3))\n",
    "print(np.var(arr3,axis=0))\n",
    "print(np.var(arr3,axis=1))"
   ]
  },
  {
   "cell_type": "code",
   "execution_count": 31,
   "id": "30611352",
   "metadata": {},
   "outputs": [
    {
     "name": "stdout",
     "output_type": "stream",
     "text": [
      "[[20. 21. 22.]\n",
      " [25. 26. 27.]\n",
      " [30. 31. 32.]]\n",
      "[[1. 1. 1.]\n",
      " [1. 1. 1.]\n",
      " [1. 1. 1.]]\n"
     ]
    }
   ],
   "source": [
    "# covariance\n",
    "\n",
    "print(arr3)\n",
    "print(np.cov(arr3))\n",
    "# print(np.cov(arr3,axis=0))\n",
    "# print(np.cov(arr3,axis=1))"
   ]
  },
  {
   "cell_type": "code",
   "execution_count": 30,
   "id": "9a819057",
   "metadata": {},
   "outputs": [
    {
     "name": "stdout",
     "output_type": "stream",
     "text": [
      "26.0\n"
     ]
    }
   ],
   "source": [
    "# weighted average\n",
    "print(np.average(arr3))"
   ]
  },
  {
   "cell_type": "code",
   "execution_count": 32,
   "id": "6351e441",
   "metadata": {},
   "outputs": [
    {
     "name": "stdout",
     "output_type": "stream",
     "text": [
      "[ 2  4  6  8 10 12 14  7 11]\n"
     ]
    }
   ],
   "source": [
    "c = np.array([2,4,6,8,10,12,14,7,11])\n",
    "print(c)"
   ]
  },
  {
   "cell_type": "code",
   "execution_count": 35,
   "id": "0010789d",
   "metadata": {},
   "outputs": [
    {
     "name": "stdout",
     "output_type": "stream",
     "text": [
      "[0.25 0.5  0.25 0.5  0.25 0.5  0.25 0.5  0.25]\n"
     ]
    }
   ],
   "source": [
    "weight = np.array([0.25,0.5,0.25,0.5,0.25,0.5,0.25,0.5,0.25])\n",
    "print(weight)"
   ]
  },
  {
   "cell_type": "code",
   "execution_count": 36,
   "id": "ad2f1e2d",
   "metadata": {},
   "outputs": [
    {
     "name": "stdout",
     "output_type": "stream",
     "text": [
      "8.076923076923077\n"
     ]
    }
   ],
   "source": [
    "print(np.average(c,weights=weight))"
   ]
  },
  {
   "cell_type": "code",
   "execution_count": 38,
   "id": "473e3ae5",
   "metadata": {},
   "outputs": [
    {
     "name": "stdout",
     "output_type": "stream",
     "text": [
      "[ 2  4  6  8 10 12 14  7 11] \n",
      "\n",
      "2.8\n",
      "3.2800000000000002\n",
      "[20.1 25.1 30.1]\n",
      "[20.5 21.5 22.5]\n",
      "[20.4 21.4 22.4]\n",
      "[20.08 25.08 30.08]\n"
     ]
    }
   ],
   "source": [
    "# percentile\n",
    "print(c,\"\\n\")\n",
    "\n",
    "print(np.percentile(c,5,0)) #percentile of first 5 columns as 0 is mentioned\n",
    "print(np.percentile(c,8,0))\n",
    "print(np.percentile(arr3,5,1))\n",
    "print(np.percentile(arr3,5,0))\n",
    "print(np.percentile(arr3,4,0))\n",
    "print(np.percentile(arr3,4,1))"
   ]
  },
  {
   "cell_type": "code",
   "execution_count": 39,
   "id": "6d728cc3",
   "metadata": {},
   "outputs": [
    {
     "name": "stdout",
     "output_type": "stream",
     "text": [
      "[[20. 21. 22.]\n",
      " [25. 26. 27.]\n",
      " [30. 31. 32.]] \n",
      "\n",
      "[ 2  4  6  8 10 12 14  7 11] \n",
      "\n",
      "12\n",
      "[10. 10. 10.]\n",
      "[2. 2. 2.]\n"
     ]
    }
   ],
   "source": [
    "# peak to peak (maximum - minimum)\n",
    "\n",
    "print(arr3,\"\\n\")\n",
    "print(c,\"\\n\")\n",
    "\n",
    "print(np.ptp(c,0))\n",
    "print(np.ptp(arr3,0))\n",
    "print(np.ptp(arr3,1))"
   ]
  },
  {
   "cell_type": "code",
   "execution_count": 42,
   "id": "a2b79fb3",
   "metadata": {},
   "outputs": [
    {
     "name": "stdout",
     "output_type": "stream",
     "text": [
      "[[20. 21. 22.]\n",
      " [25. 26. 27.]\n",
      " [30. 31. 32.]]\n",
      "(3, 3) \n",
      "\n",
      "[[20. 21. 22. 25. 26. 27. 30. 31. 32.]] \n",
      "\n",
      "[[20. 21. 22.]\n",
      " [25. 26. 27.]\n",
      " [30. 31. 32.]]\n"
     ]
    }
   ],
   "source": [
    "print(arr3)\n",
    "print(arr3.shape,\"\\n\")\n",
    "print(arr3.reshape(1,9),\"\\n\")\n",
    "print(arr3)\n"
   ]
  },
  {
   "cell_type": "code",
   "execution_count": 45,
   "id": "a575c2a3",
   "metadata": {},
   "outputs": [
    {
     "name": "stdout",
     "output_type": "stream",
     "text": [
      "[[  5656   1155]\n",
      " [  1561 153654]\n",
      " [  4418   8485]\n",
      " [  6146   4113]]\n"
     ]
    }
   ],
   "source": [
    "b = np.array([[5656,1155],[1561,153654],[4418,8485],[6146,4113]])\n",
    "print(b)"
   ]
  },
  {
   "cell_type": "code",
   "execution_count": 46,
   "id": "7c8c1d7c",
   "metadata": {},
   "outputs": [
    {
     "name": "stdout",
     "output_type": "stream",
     "text": [
      "[[  5656   1155   1561 153654]\n",
      " [  4418   8485   6146   4113]]\n"
     ]
    }
   ],
   "source": [
    "print(b.reshape(2,4))"
   ]
  },
  {
   "cell_type": "code",
   "execution_count": 47,
   "id": "d30ea443",
   "metadata": {},
   "outputs": [
    {
     "name": "stdout",
     "output_type": "stream",
     "text": [
      "[20, 48, 96, 57, 36, 14, 63]\n",
      "[48, 96, 57, 36, 14, 63]\n",
      "[20, 48, 96, 57]\n",
      "63\n"
     ]
    }
   ],
   "source": [
    "e = [20,48,96,57,36,14,63]\n",
    "print(e[:])\n",
    "print(e[1:])\n",
    "print(e[:4])\n",
    "print(e[-1])"
   ]
  },
  {
   "cell_type": "code",
   "execution_count": 54,
   "id": "b8d9c7f1",
   "metadata": {},
   "outputs": [
    {
     "name": "stdout",
     "output_type": "stream",
     "text": [
      "[[23 25 27 29]\n",
      " [43 45 47 49]\n",
      " [62 66 68 70]] \n",
      "\n",
      "29 \n",
      "\n",
      "47 \n",
      "\n",
      "[25 45] \n",
      "\n",
      "Value of l[-1] is[62 66 68 70] : \n",
      "\n",
      "[62 66] \n",
      "\n",
      "[43 45] \n",
      "\n",
      "47 \n",
      "\n"
     ]
    }
   ],
   "source": [
    "# 2d array\n",
    "\n",
    "l = np.array([[23,25,27,29],[43,45,47,49],[62,66,68,70]])\n",
    "print(l,\"\\n\")\n",
    "print(l[0,3],\"\\n\")\n",
    "print(l[1,2],\"\\n\")\n",
    "print(l[0:2,1],\"\\n\")\n",
    "print(f\"Value of l[-1] is{l[-1]} :\",\"\\n\")\n",
    "print(l[-1,0:2],\"\\n\")\n",
    "print(l[-2,0:2],\"\\n\")\n",
    "print(l[-2,2],\"\\n\")"
   ]
  },
  {
   "cell_type": "code",
   "execution_count": 2,
   "id": "b6683023",
   "metadata": {},
   "outputs": [
    {
     "name": "stdout",
     "output_type": "stream",
     "text": [
      "[[ 0  1  2  3]\n",
      " [ 4  5  6  7]\n",
      " [ 8  9 10 11]] \n",
      "\n",
      "[[12 13 14 15]\n",
      " [16 17 18 19]\n",
      " [20 21 22 23]] \n",
      "\n"
     ]
    }
   ],
   "source": [
    "d=np.arange(12).reshape(3,4)\n",
    "print(d,\"\\n\")\n",
    "f=np.arange(12,24).reshape(3,4)\n",
    "print(f,\"\\n\")"
   ]
  },
  {
   "cell_type": "code",
   "execution_count": 3,
   "id": "0e8389dd",
   "metadata": {},
   "outputs": [
    {
     "name": "stdout",
     "output_type": "stream",
     "text": [
      "[[ 0  1  2  3 12 13 14 15]\n",
      " [ 4  5  6  7 16 17 18 19]\n",
      " [ 8  9 10 11 20 21 22 23]] \n",
      "\n",
      "[[12 13 14 15  0  1  2  3]\n",
      " [16 17 18 19  4  5  6  7]\n",
      " [20 21 22 23  8  9 10 11]] \n",
      "\n"
     ]
    }
   ],
   "source": [
    "# horizontal stacking (It will merge arrays horizontally)\n",
    "\n",
    "print(np.hstack((d,f)),'\\n')\n",
    "print(np.hstack((f,d)),'\\n')"
   ]
  },
  {
   "cell_type": "code",
   "execution_count": 4,
   "id": "d8938f08",
   "metadata": {
    "scrolled": true
   },
   "outputs": [
    {
     "name": "stdout",
     "output_type": "stream",
     "text": [
      "[[ 0  1  2  3]\n",
      " [ 4  5  6  7]\n",
      " [ 8  9 10 11]\n",
      " [12 13 14 15]\n",
      " [16 17 18 19]\n",
      " [20 21 22 23]] \n",
      "\n",
      "[[12 13 14 15]\n",
      " [16 17 18 19]\n",
      " [20 21 22 23]\n",
      " [ 0  1  2  3]\n",
      " [ 4  5  6  7]\n",
      " [ 8  9 10 11]] \n",
      "\n"
     ]
    }
   ],
   "source": [
    "# verticAL STACKING (it will merge array vertically)\n",
    "\n",
    "print(np.vstack((d,f)),'\\n')\n",
    "print(np.vstack((f,d)),'\\n')"
   ]
  },
  {
   "cell_type": "code",
   "execution_count": 5,
   "id": "db7b4c39",
   "metadata": {},
   "outputs": [
    {
     "name": "stdout",
     "output_type": "stream",
     "text": [
      "[ 2  8 10  3 55 60]\n",
      "[ 1  7  9 34 54 59]\n",
      "[  3  15  19  37 109 119] \n",
      "\n",
      "[   2   56   90  102 2970 3540] \n",
      "\n",
      "[  1   1   1 -31   1   1] \n",
      "\n",
      "[2.         1.14285714 1.11111111 0.08823529 1.01851852 1.01694915] \n",
      "\n",
      "[2 1 1 0 1 1] \n",
      "\n"
     ]
    }
   ],
   "source": [
    "# MAthematical operations\n",
    "\n",
    "x = np.array([2,8,10,3,55,60])\n",
    "y = np.array([1,7,9,34,54,59])\n",
    "\n",
    "print(x)\n",
    "print(y)\n",
    "print(x+y,\"\\n\")\n",
    "print(x*y,\"\\n\")\n",
    "print(x-y,\"\\n\")\n",
    "print(x/y,\"\\n\")\n",
    "print(x//y,\"\\n\")"
   ]
  },
  {
   "cell_type": "code",
   "execution_count": null,
   "id": "3de89c94",
   "metadata": {},
   "outputs": [],
   "source": [
    "print(np.zeros((4,3)),\"\\n\")"
   ]
  },
  {
   "cell_type": "code",
   "execution_count": 1,
   "id": "80e60ffe",
   "metadata": {},
   "outputs": [],
   "source": [
    "import numpy as np"
   ]
  },
  {
   "cell_type": "code",
   "execution_count": 4,
   "id": "97087c0a",
   "metadata": {},
   "outputs": [
    {
     "name": "stdout",
     "output_type": "stream",
     "text": [
      "52\n"
     ]
    }
   ],
   "source": [
    "# RANDOM NUMBE4RS IN NUMPY\n",
    "\n",
    "from numpy import random\n",
    "x=random.randint(100)\n",
    "print(x)"
   ]
  },
  {
   "cell_type": "code",
   "execution_count": 5,
   "id": "a244f882",
   "metadata": {},
   "outputs": [
    {
     "name": "stdout",
     "output_type": "stream",
     "text": [
      "[0.77714613 0.42975132 0.57848849 0.17169085 0.04688939 0.68809993\n",
      " 0.39063669 0.18878445 0.73659869 0.92619265]\n"
     ]
    }
   ],
   "source": [
    "\n",
    "#  GENERATING RANDOM FLOAT NUMBER\n",
    "\n",
    "x = random.rand(10)\n",
    "print(x)"
   ]
  },
  {
   "cell_type": "code",
   "execution_count": 7,
   "id": "2dc009c7",
   "metadata": {},
   "outputs": [
    {
     "name": "stdout",
     "output_type": "stream",
     "text": [
      "[11 18 49 97 45 22 34 83  8 96 37 85  5 85 72]\n"
     ]
    }
   ],
   "source": [
    "# GENERATING RANDOM ARRAY\n",
    "\n",
    "x = random.randint(100,size=(15))\n",
    "print(x)"
   ]
  },
  {
   "cell_type": "code",
   "execution_count": 8,
   "id": "1077496c",
   "metadata": {},
   "outputs": [
    {
     "name": "stdout",
     "output_type": "stream",
     "text": [
      "[[97 26 66 63]\n",
      " [34 87 16 73]\n",
      " [ 5 58 47 83]]\n"
     ]
    }
   ],
   "source": [
    "# GENERATING RANDOM MATRIX(2 - D array) each row containing 4 random numbers from 0 to 100\n",
    "\n",
    "x= random.randint(100,size=(3,4))\n",
    "print(x)"
   ]
  },
  {
   "cell_type": "code",
   "execution_count": 11,
   "id": "0a3e9a64",
   "metadata": {},
   "outputs": [
    {
     "name": "stdout",
     "output_type": "stream",
     "text": [
      "Input array is  [8]\n",
      "Output scalar from input array  8\n"
     ]
    },
    {
     "name": "stderr",
     "output_type": "stream",
     "text": [
      "C:\\Users\\SAP\\AppData\\Local\\Temp\\ipykernel_9004\\3325819600.py:6: DeprecationWarning: np.asscalar(a) is deprecated since NumPy v1.16, use a.item() instead\n",
      "  out_scalar = np.asscalar(in_arr)\n"
     ]
    }
   ],
   "source": [
    "# CREATING SCALAR USING NUMPY\n",
    "\n",
    "in_arr = np.array([8])\n",
    "print(\"Input array is \",in_arr)\n",
    "\n",
    "out_scalar = np.asscalar(in_arr)\n",
    "print(\"Output scalar from input array \",out_scalar)"
   ]
  },
  {
   "cell_type": "code",
   "execution_count": 12,
   "id": "523da7e0",
   "metadata": {},
   "outputs": [
    {
     "name": "stdout",
     "output_type": "stream",
     "text": [
      "Horizontal Vector\n",
      "[1 2 3]\n",
      "<!-------------------------------------------------!>\n",
      "Vertical Vector\n",
      "[[10]\n",
      " [20]\n",
      " [30]]\n"
     ]
    }
   ],
   "source": [
    "# CREATING VECTOR \n",
    "\n",
    "list1 = [1,2,3]\n",
    "\n",
    "list2=[[10],\n",
    "      [20],\n",
    "      [30]]\n",
    "\n",
    "# create vector\n",
    "vector1 = np.array(list1)\n",
    "vector2 = np.array(list2)\n",
    "\n",
    "print(\"Horizontal Vector\")\n",
    "print(vector1)\n",
    "\n",
    "print(\"<!-------------------------------------------------!>\")\n",
    "\n",
    "print(\"Vertical Vector\")\n",
    "print(vector2)\n"
   ]
  },
  {
   "cell_type": "code",
   "execution_count": 14,
   "id": "2cbdd338",
   "metadata": {},
   "outputs": [
    {
     "name": "stdout",
     "output_type": "stream",
     "text": [
      "via array-like input:\n",
      " [[1 2]\n",
      " [3 4]] \n",
      "\n",
      "via array-like input:\n",
      " [[list([5, 6, 7]) list([4, 6])]] \n",
      "\n"
     ]
    },
    {
     "name": "stderr",
     "output_type": "stream",
     "text": [
      "C:\\Users\\SAP\\anaconda3\\lib\\site-packages\\numpy\\matrixlib\\defmatrix.py:145: VisibleDeprecationWarning: Creating an ndarray from ragged nested sequences (which is a list-or-tuple of lists-or-tuples-or ndarrays with different lengths or shapes) is deprecated. If you meant to do this, you must specify 'dtype=object' when creating the ndarray.\n",
      "  arr = N.array(data, dtype=dtype, copy=copy)\n"
     ]
    }
   ],
   "source": [
    "# creating matrix\n",
    "\n",
    "import numpy as np\n",
    "\n",
    "a= np.matrix('1,2;3,4')\n",
    "print(\"via array-like input:\\n\",a,\"\\n\")\n",
    "\n",
    "# array like input\n",
    "b= np.matrix([[5,6,7],[4,6]])\n",
    "print(\"via array-like input:\\n\",b,\"\\n\")\n",
    "\n"
   ]
  },
  {
   "cell_type": "code",
   "execution_count": 15,
   "id": "769a745d",
   "metadata": {},
   "outputs": [
    {
     "name": "stdout",
     "output_type": "stream",
     "text": [
      "[[30 35]\n",
      " [40 45]]\n"
     ]
    }
   ],
   "source": [
    "#  MATRIX MULTIPLICATION\n",
    "\n",
    "A = 5\n",
    "B = [[6,7],[8,9]]\n",
    "\n",
    "print(np.dot(A,B))"
   ]
  },
  {
   "cell_type": "code",
   "execution_count": 19,
   "id": "42a2c21f",
   "metadata": {},
   "outputs": [
    {
     "name": "stdout",
     "output_type": "stream",
     "text": [
      "Dot Product Of A and B  [[41 67]\n",
      " [53 87]]\n",
      "\n",
      "\n",
      "Dot Product of B and A [[30 34]\n",
      " [86 98]]\n"
     ]
    }
   ],
   "source": [
    "A = [[6,7],[8,9]]\n",
    "\n",
    "B = [[1,3],[5,7]]\n",
    "print(\"Dot Product Of A and B \",np.dot(A,B))\n",
    "\n",
    "print(\"\\n\")\n",
    "\n",
    "print(\"Dot Product of B and A\",np.dot(B,A))"
   ]
  },
  {
   "cell_type": "code",
   "execution_count": null,
   "id": "35c14780",
   "metadata": {},
   "outputs": [],
   "source": [
    "# Measure of Central Tendency"
   ]
  },
  {
   "cell_type": "code",
   "execution_count": 22,
   "id": "3b1e3e10",
   "metadata": {},
   "outputs": [
    {
     "name": "stdout",
     "output_type": "stream",
     "text": [
      "[32, 36, 46, 47, 56, 69, 75, 79, 79, 88]\n",
      "34.0\n"
     ]
    }
   ],
   "source": [
    "data = [32,36,46,47,56,69,75,79,79,88,89,91,92,93,96,97,101,105,112,116]\n",
    "\n",
    "# first quartile\n",
    "Q1 = np.median(data[:10])\n",
    "print(data[:10])\n",
    "\n",
    "# third quartile\n",
    "Q3 = np.median(data[10:])\n",
    "\n",
    "# interquartile range\n",
    "IQR = Q3-Q1\n",
    "print(IQR)"
   ]
  },
  {
   "cell_type": "code",
   "execution_count": 23,
   "id": "5b112bb2",
   "metadata": {},
   "outputs": [
    {
     "data": {
      "text/plain": [
       "array([2., 4., 6.])"
      ]
     },
     "execution_count": 23,
     "metadata": {},
     "output_type": "execute_result"
    }
   ],
   "source": [
    "# Array Broadcasting\n",
    "\n",
    "a = np.array([1.0,2.0,3.0])\n",
    "b = np.array([2.0,2.0,2.0])\n",
    "\n",
    "a*b\n"
   ]
  },
  {
   "cell_type": "code",
   "execution_count": 24,
   "id": "e2d89f62",
   "metadata": {},
   "outputs": [
    {
     "ename": "SyntaxError",
     "evalue": "invalid syntax (430368099.py, line 2)",
     "output_type": "error",
     "traceback": [
      "\u001b[1;36m  Input \u001b[1;32mIn [24]\u001b[1;36m\u001b[0m\n\u001b[1;33m    b = 5.0\u001b[0m\n\u001b[1;37m    ^\u001b[0m\n\u001b[1;31mSyntaxError\u001b[0m\u001b[1;31m:\u001b[0m invalid syntax\n"
     ]
    }
   ],
   "source": [
    "a = np.array([1.0,2.0,3.0])\\\n",
    "b = 5.0\n",
    "\n",
    "a*b"
   ]
  }
 ],
 "metadata": {
  "kernelspec": {
   "display_name": "Python 3 (ipykernel)",
   "language": "python",
   "name": "python3"
  },
  "language_info": {
   "codemirror_mode": {
    "name": "ipython",
    "version": 3
   },
   "file_extension": ".py",
   "mimetype": "text/x-python",
   "name": "python",
   "nbconvert_exporter": "python",
   "pygments_lexer": "ipython3",
   "version": "3.9.12"
  }
 },
 "nbformat": 4,
 "nbformat_minor": 5
}
